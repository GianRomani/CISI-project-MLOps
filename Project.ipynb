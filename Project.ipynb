{
 "cells": [
  {
   "cell_type": "code",
   "execution_count": 1,
   "id": "5d95096a",
   "metadata": {},
   "outputs": [],
   "source": [
    "import params\n",
    "\n",
    "import os\n",
    "import wandb\n",
    "from tqdm import tqdm"
   ]
  },
  {
   "cell_type": "code",
   "execution_count": 2,
   "id": "b9a7871d",
   "metadata": {},
   "outputs": [
    {
     "name": "stderr",
     "output_type": "stream",
     "text": [
      "\u001b[34m\u001b[1mwandb\u001b[0m: Currently logged in as: \u001b[33mgianfranco-romani\u001b[0m. Use \u001b[1m`wandb login --relogin`\u001b[0m to force relogin\n"
     ]
    },
    {
     "data": {
      "text/plain": [
       "True"
      ]
     },
     "execution_count": 2,
     "metadata": {},
     "output_type": "execute_result"
    }
   ],
   "source": [
    "wandb.login()"
   ]
  },
  {
   "cell_type": "code",
   "execution_count": 5,
   "id": "03a40627",
   "metadata": {},
   "outputs": [],
   "source": [
    "path = '/home/gianfree/Desktop/CISI-project-MLOps/'\n",
    "dataset_texts_path = \"./CISI.ALL\"\n",
    "dataset_queries_path = \"./CISI.QRY\"\n",
    "dataset_mapping_path = \"./CISI.REL\""
   ]
  },
  {
   "cell_type": "code",
   "execution_count": 6,
   "id": "0a48c739",
   "metadata": {},
   "outputs": [
    {
     "name": "stdout",
     "output_type": "stream",
     "text": [
      "Number of documents = 1460\n",
      "\n",
      "['18 Editions of the Dewey Decimal Classifications', \"The present study is a history of the DEWEY Decimal Classification.  The first edition of the DDC was published in 1876, the eighteenth edition in 1971, and future editions will continue to appear as needed.  In spite of the DDC's long and healthy life, however, its full story has never been told.  There have been biographies of Dewey that briefly describe his system, but this is the first attempt to provide a detailed history of the work that more than any other has spurred the growth of librarianship in this country and abroad.\"]\n",
      "####################################################################################################\n",
      "\n",
      "Number of queries = 112\n",
      "\n",
      "What problems and concerns are there in making up descriptive titles? What difficulties are involved in automatically retrieving articles from approximate titles? What is the usual relevance of the content of articles to their titles?\n",
      "####################################################################################################\n",
      "\n",
      "Number of mappings = 76\n",
      "['28', '35', '38', '42', '43', '52', '65', '76', '86', '150', '189', '192', '193', '195', '215', '269', '291', '320', '429', '465', '466', '482', '483', '510', '524', '541', '576', '582', '589', '603', '650', '680', '711', '722', '726', '783', '813', '820', '868', '869', '894', '1162', '1164', '1195', '1196', '1281']\n"
     ]
    }
   ],
   "source": [
    "#Read data from CISI.ALL file and store in dictionary \n",
    "with open(os.path.join(path, 'CISI.ALL')) as f:\n",
    "        lines = \"\"\n",
    "        for l in f.readlines():\n",
    "            lines += \"\\n\" + l.strip() if l.startswith(\".\") else \" \" + l.strip()\n",
    "        lines = lines.lstrip(\"\\n\").split(\"\\n\")\n",
    " \n",
    "doc_set = {}\n",
    "doc_id = \"\"\n",
    "doc_text = []\n",
    "\n",
    "for l in lines:\n",
    "    if l.startswith(\".I\"):\n",
    "        doc_id = l.split(\" \")[1].strip() \n",
    "    elif l.startswith(\".X\"):\n",
    "        doc_set[doc_id] = doc_text#.lstrip(\" \")\n",
    "        doc_id = \"\"\n",
    "        doc_text = []\n",
    "        continue\n",
    "    elif l.startswith(\".T\"):\n",
    "        doc_text.append(l.strip()[3:])\n",
    "    elif l.startswith(\".W\"):\n",
    "        doc_text.append(l.strip()[3:])\n",
    "\n",
    "print(f\"Number of documents = {len(doc_set)}\\n\")\n",
    "print(doc_set[\"1\"]) \n",
    "print(\"#\"*100)\n",
    "\n",
    "#Read data from CISI.QRY file and store in dictionary \n",
    "with open(os.path.join(path, 'CISI.QRY')) as f:\n",
    "        lines = \"\"\n",
    "        for l in f.readlines():\n",
    "            lines += \"\\n\" + l.strip() if l.startswith(\".\") else \" \" + l.strip()\n",
    "        lines = lines.lstrip(\"\\n\").split(\"\\n\")\n",
    "          \n",
    "qry_set = {}\n",
    "qry_id = \"\"\n",
    "for l in lines:\n",
    "    if l.startswith(\".I\"):\n",
    "        qry_id = l.split(\" \")[1].strip() \n",
    "    elif l.startswith(\".W\"):\n",
    "        qry_set[qry_id] = l.strip()[3:]\n",
    "        qry_id = \"\"\n",
    "\n",
    "print(f\"\\nNumber of queries = {len(qry_set)}\\n\")    \n",
    "print(qry_set[\"1\"]) \n",
    "print(\"#\"*100)\n",
    "\n",
    "#Read data from CISI.REL file and store in dictionary \n",
    "rel_set = {}\n",
    "with open(os.path.join(path, 'CISI.REL')) as f:\n",
    "    for l in f.readlines():\n",
    "        qry_id = l.lstrip(\" \").strip(\"\\n\").split(\"\\t\")[0].split(\" \")[0] \n",
    "        doc_id = l.lstrip(\" \").strip(\"\\n\").split(\"\\t\")[0].split(\" \")[-1]\n",
    "\n",
    "        if qry_id in rel_set:\n",
    "            rel_set[qry_id].append(doc_id)\n",
    "        else:\n",
    "            rel_set[qry_id] = []\n",
    "            rel_set[qry_id].append(doc_id)\n",
    "\n",
    "print(f\"\\nNumber of mappings = {len(rel_set)}\")\n",
    "print(rel_set[\"1\"]) "
   ]
  },
  {
   "cell_type": "code",
   "execution_count": 7,
   "id": "54cd5a2b",
   "metadata": {},
   "outputs": [
    {
     "data": {
      "text/html": [
       "Tracking run with wandb version 0.13.7"
      ],
      "text/plain": [
       "<IPython.core.display.HTML object>"
      ]
     },
     "metadata": {},
     "output_type": "display_data"
    },
    {
     "data": {
      "text/html": [
       "Run data is saved locally in <code>/home/gianfree/Desktop/CISI-project-MLOps/wandb/run-20230110_171626-1k35xcat</code>"
      ],
      "text/plain": [
       "<IPython.core.display.HTML object>"
      ]
     },
     "metadata": {},
     "output_type": "display_data"
    },
    {
     "data": {
      "text/html": [
       "Syncing run <strong><a href=\"https://wandb.ai/gianfranco-romani/cisi-project/runs/1k35xcat\" target=\"_blank\">wise-pyramid-5</a></strong> to <a href=\"https://wandb.ai/gianfranco-romani/cisi-project\" target=\"_blank\">Weights & Biases</a> (<a href=\"https://wandb.me/run\" target=\"_blank\">docs</a>)<br/>"
      ],
      "text/plain": [
       "<IPython.core.display.HTML object>"
      ]
     },
     "metadata": {},
     "output_type": "display_data"
    }
   ],
   "source": [
    "run = wandb.init(project=params.WANDB_PROJECT, entity=params.ENTITY, job_type=\"upload\")\n",
    "artifact = wandb.Artifact(name=\"cisi_project\", type=\"dataset\")"
   ]
  },
  {
   "cell_type": "code",
   "execution_count": 8,
   "id": "1235da90",
   "metadata": {},
   "outputs": [
    {
     "data": {
      "text/plain": [
       "<ManifestEntry digest: 9X77Pr4PBhAtaf4J9116cA==>"
      ]
     },
     "execution_count": 8,
     "metadata": {},
     "output_type": "execute_result"
    }
   ],
   "source": [
    "artifact.add_file(local_path='./CISI.ALL', name='questions')\n",
    "artifact.add_file(local_path='./CISI.QRY', name='queries')\n",
    "artifact.add_file(local_path='./CISI.REL', name='mappings')"
   ]
  },
  {
   "cell_type": "code",
   "execution_count": 11,
   "id": "dd0ed9af",
   "metadata": {},
   "outputs": [
    {
     "name": "stderr",
     "output_type": "stream",
     "text": [
      "100%|████████████████████████████████████| 1460/1460 [00:00<00:00, 14458.51it/s]\n"
     ]
    },
    {
     "data": {
      "text/plain": [
       "<ManifestEntry digest: U+B+IFh6j8qGtGhkGDZmNA==>"
      ]
     },
     "execution_count": 11,
     "metadata": {},
     "output_type": "execute_result"
    }
   ],
   "source": [
    "table_questions = wandb.Table(columns=[\"ID\", \"Title\", \"Text\"])\n",
    "for i, doc in tqdm(enumerate(doc_set.items()), total=len(doc_set)):\n",
    "    table_questions.add_data(doc[0], doc[1][0], doc[1][1])\n",
    "\n",
    "artifact.add(table_questions, \"table_questions\")"
   ]
  },
  {
   "cell_type": "code",
   "execution_count": 12,
   "id": "225a725f",
   "metadata": {},
   "outputs": [
    {
     "data": {
      "text/html": [
       "Waiting for W&B process to finish... <strong style=\"color:green\">(success).</strong>"
      ],
      "text/plain": [
       "<IPython.core.display.HTML object>"
      ]
     },
     "metadata": {},
     "output_type": "display_data"
    },
    {
     "data": {
      "text/html": [
       "Synced <strong style=\"color:#cdcd00\">wise-pyramid-5</strong>: <a href=\"https://wandb.ai/gianfranco-romani/cisi-project/runs/1k35xcat\" target=\"_blank\">https://wandb.ai/gianfranco-romani/cisi-project/runs/1k35xcat</a><br/>Synced 5 W&B file(s), 0 media file(s), 4 artifact file(s) and 0 other file(s)"
      ],
      "text/plain": [
       "<IPython.core.display.HTML object>"
      ]
     },
     "metadata": {},
     "output_type": "display_data"
    },
    {
     "data": {
      "text/html": [
       "Find logs at: <code>./wandb/run-20230110_171626-1k35xcat/logs</code>"
      ],
      "text/plain": [
       "<IPython.core.display.HTML object>"
      ]
     },
     "metadata": {},
     "output_type": "display_data"
    }
   ],
   "source": [
    "run.log_artifact(artifact)\n",
    "run.finish()"
   ]
  }
 ],
 "metadata": {
  "kernelspec": {
   "display_name": "Python 3 (ipykernel)",
   "language": "python",
   "name": "python3"
  },
  "language_info": {
   "codemirror_mode": {
    "name": "ipython",
    "version": 3
   },
   "file_extension": ".py",
   "mimetype": "text/x-python",
   "name": "python",
   "nbconvert_exporter": "python",
   "pygments_lexer": "ipython3",
   "version": "3.8.10"
  },
  "vscode": {
   "interpreter": {
    "hash": "916dbcbb3f70747c44a77c7bcd40155683ae19c65e1c03b4aa3499c5328201f1"
   }
  }
 },
 "nbformat": 4,
 "nbformat_minor": 5
}
