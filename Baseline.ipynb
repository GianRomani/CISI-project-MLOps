{
 "cells": [
  {
   "cell_type": "code",
   "execution_count": 2,
   "id": "d2a387a7",
   "metadata": {},
   "outputs": [],
   "source": [
    "import params\n",
    "import wandb\n",
    "\n",
    "import pandas as pd\n",
    "import os\n",
    "import numpy as np\n",
    "\n",
    "from sentence_transformers import SentenceTransformer\n",
    "from sklearn.metrics.pairwise import cosine_similarity\n",
    "from sklearn.metrics import recall_score"
   ]
  },
  {
   "cell_type": "code",
   "execution_count": 3,
   "id": "0524e4fb",
   "metadata": {},
   "outputs": [],
   "source": [
    "path = '/home/gianfree/Desktop/CISI-project-MLOps/'\n",
    "\n",
    "def read_mappings():\n",
    "    rel_set = {}\n",
    "    with open(os.path.join(path, 'CISI.REL')) as f:\n",
    "        for l in f.readlines():\n",
    "            qry_id = int(l.lstrip(\" \").strip(\"\\n\").split(\"\\t\")[0].split(\" \")[0])\n",
    "            doc_id = l.lstrip(\" \").strip(\"\\n\").split(\"\\t\")[0].split(\" \")[-1]\n",
    "\n",
    "            if qry_id in rel_set:\n",
    "                rel_set[qry_id].append(doc_id)\n",
    "            else:\n",
    "                rel_set[qry_id] = []\n",
    "                rel_set[qry_id].append(doc_id)\n",
    "    return rel_set"
   ]
  },
  {
   "cell_type": "code",
   "execution_count": 4,
   "id": "a42b8db0",
   "metadata": {},
   "outputs": [
    {
     "name": "stderr",
     "output_type": "stream",
     "text": [
      "\u001b[34m\u001b[1mwandb\u001b[0m: Currently logged in as: \u001b[33mgianfranco-romani\u001b[0m. Use \u001b[1m`wandb login --relogin`\u001b[0m to force relogin\n"
     ]
    },
    {
     "data": {
      "application/vnd.jupyter.widget-view+json": {
       "model_id": "0ae483357d0f4c1087ff8f1d66043b23",
       "version_major": 2,
       "version_minor": 0
      },
      "text/plain": [
       "VBox(children=(Label(value='Waiting for wandb.init()...\\r'), FloatProgress(value=0.016669725533332288, max=1.0…"
      ]
     },
     "metadata": {},
     "output_type": "display_data"
    },
    {
     "data": {
      "text/html": [
       "wandb version 0.13.9 is available!  To upgrade, please run:\n",
       " $ pip install wandb --upgrade"
      ],
      "text/plain": [
       "<IPython.core.display.HTML object>"
      ]
     },
     "metadata": {},
     "output_type": "display_data"
    },
    {
     "data": {
      "text/html": [
       "Tracking run with wandb version 0.13.7"
      ],
      "text/plain": [
       "<IPython.core.display.HTML object>"
      ]
     },
     "metadata": {},
     "output_type": "display_data"
    },
    {
     "data": {
      "text/html": [
       "Run data is saved locally in <code>/home/gianfree/Desktop/CISI-project-MLOps/wandb/run-20230123_135445-3g0ztc1p</code>"
      ],
      "text/plain": [
       "<IPython.core.display.HTML object>"
      ]
     },
     "metadata": {},
     "output_type": "display_data"
    },
    {
     "data": {
      "text/html": [
       "Syncing run <strong><a href=\"https://wandb.ai/gianfranco-romani/cisi-project/runs/3g0ztc1p\" target=\"_blank\">eager-feather-13</a></strong> to <a href=\"https://wandb.ai/gianfranco-romani/cisi-project\" target=\"_blank\">Weights & Biases</a> (<a href=\"https://wandb.me/run\" target=\"_blank\">docs</a>)<br/>"
      ],
      "text/plain": [
       "<IPython.core.display.HTML object>"
      ]
     },
     "metadata": {},
     "output_type": "display_data"
    }
   ],
   "source": [
    "run = wandb.init(project=params.WANDB_PROJECT, entity=params.ENTITY, job_type=\"baseline\")"
   ]
  },
  {
   "cell_type": "code",
   "execution_count": 5,
   "id": "71d04ef7",
   "metadata": {},
   "outputs": [
    {
     "name": "stderr",
     "output_type": "stream",
     "text": [
      "\u001b[34m\u001b[1mwandb\u001b[0m:   3 of 3 files downloaded.  \n",
      "\u001b[34m\u001b[1mwandb\u001b[0m:   3 of 3 files downloaded.  \n",
      "\u001b[34m\u001b[1mwandb\u001b[0m:   3 of 3 files downloaded.  \n"
     ]
    }
   ],
   "source": [
    "split_dataset = run.use_artifact('gianfranco-romani/cisi-project/data-splits:latest', type='dataset')\n",
    "train = split_dataset.get(\"train-data\")\n",
    "test = split_dataset.get(\"test-data\")\n",
    "val = split_dataset.get(\"val-data\")"
   ]
  },
  {
   "cell_type": "code",
   "execution_count": 6,
   "id": "39b62e63",
   "metadata": {},
   "outputs": [],
   "source": [
    "mappings = read_mappings()"
   ]
  },
  {
   "cell_type": "code",
   "execution_count": 7,
   "id": "e66a1b74",
   "metadata": {},
   "outputs": [],
   "source": [
    "model = SentenceTransformer('all-MiniLM-L6-v2')\n",
    "emb_queries = model.encode(test.get_column(\"query\")[:10])\n",
    "emb_questions = model.encode(test.get_column(\"doc_text\")[:10])"
   ]
  },
  {
   "cell_type": "code",
   "execution_count": null,
   "id": "73587bae",
   "metadata": {},
   "outputs": [],
   "source": [
    "model = SentenceTransformer('bert-base-nli-mean-tokens')\n",
    "\n",
    "train_dataloader = DataLoader(train_samples, shuffle=True, batch_size=train_batch_size)\n",
    "train_loss = losses.CosineSimilarityLoss(model=model)\n",
    "\n",
    "evaluator = EmbeddingSimilarityEvaluator.from_input_examples(sts_reader.get_examples('sts-dev.csv'))"
   ]
  },
  {
   "cell_type": "code",
   "execution_count": 8,
   "id": "9c4bc9f2",
   "metadata": {},
   "outputs": [
    {
     "data": {
      "text/plain": [
       "array([[ 0.2847346 ,  0.25719053,  0.10240063,  0.12293756,  0.16833484,\n",
       "         0.2874623 ,  0.20452464,  0.51545334,  0.19411021,  0.20697345],\n",
       "       [ 0.44725487,  0.56345516,  0.360586  ,  0.2742477 ,  0.26918757,\n",
       "         0.5911861 ,  0.24796732,  0.3936075 ,  0.25651917,  0.2850684 ],\n",
       "       [ 0.29465538,  0.30009323,  0.3981277 ,  0.24446055,  0.13022794,\n",
       "         0.41670698,  0.18812767,  0.55007005,  0.18714547,  0.25568163],\n",
       "       [ 0.59377563,  0.42029706,  0.35294735,  0.35484943,  0.35322714,\n",
       "         0.51941013,  0.41250026,  0.5746869 ,  0.26772305,  0.38878733],\n",
       "       [ 0.59377563,  0.42029706,  0.35294735,  0.35484943,  0.35322714,\n",
       "         0.51941013,  0.41250026,  0.5746869 ,  0.26772305,  0.38878733],\n",
       "       [ 0.25927836,  0.2602811 ,  0.21599223,  0.01419196, -0.01462908,\n",
       "         0.3048433 ,  0.10882621,  0.36733514,  0.2240171 ,  0.00804543],\n",
       "       [ 0.29026145,  0.28047854,  0.28018677,  0.36115855,  0.362948  ,\n",
       "         0.4385658 ,  0.3992448 ,  0.6781293 ,  0.18603666,  0.2930274 ],\n",
       "       [ 0.29465538,  0.30009323,  0.3981277 ,  0.24446055,  0.13022794,\n",
       "         0.41670698,  0.18812767,  0.55007005,  0.18714547,  0.25568163],\n",
       "       [ 0.42496097,  0.3984471 ,  0.346669  ,  0.34464964,  0.3651616 ,\n",
       "         0.5505106 ,  0.39564812,  0.49557465,  0.26839477,  0.3584234 ],\n",
       "       [ 0.28781146,  0.39487934,  0.16913137,  0.4020247 ,  0.24845305,\n",
       "         0.28896943,  0.13636668,  0.18766448, -0.02253795,  0.4533301 ]],\n",
       "      dtype=float32)"
      ]
     },
     "execution_count": 8,
     "metadata": {},
     "output_type": "execute_result"
    }
   ],
   "source": [
    "res = cosine_similarity(emb_queries, emb_questions)\n",
    "#res"
   ]
  },
  {
   "cell_type": "code",
   "execution_count": 38,
   "id": "f41d8052",
   "metadata": {},
   "outputs": [],
   "source": [
    "#print(test.get_column(\"query\")[0], \"\\n\\n\",test.get_column(\"doc_text\")[0], \"\\n\\n\",test.get_column(\"doc_text\")[7])"
   ]
  },
  {
   "cell_type": "code",
   "execution_count": 59,
   "id": "5a3b09c0",
   "metadata": {},
   "outputs": [],
   "source": [
    "def build_result_and_test_y(res, mappings):\n",
    "    #keep just the documents with similarity > 0.5 (and get their index)\n",
    "    retrieved_docs = []\n",
    "    for i, l in enumerate(res):\n",
    "        retrieved_docs.append([])\n",
    "        for j, v in enumerate(l):\n",
    "            if v>=0.5:\n",
    "                retrieved_docs[-1].append(j)\n",
    "    retrieved_docs\n",
    "    \n",
    "    ids = list(mappings.keys())\n",
    "    ids.sort()\n",
    "    \n",
    "    y_true = []\n",
    "    for i in ids:\n",
    "        y_true.append(mappings[i])\n",
    "    return retrieved_docs, y_true"
   ]
  },
  {
   "cell_type": "code",
   "execution_count": 50,
   "id": "a35cb735",
   "metadata": {},
   "outputs": [],
   "source": [
    "def recall(y_true, y_pred):\n",
    "    recall_res = 0\n",
    "    for i,l in enumerate(y_pred):\n",
    "        if len(y_pred[i])==0:\n",
    "            continue\n",
    "        count = 0\n",
    "        for j,v in enumerate(l):\n",
    "            if v in y_true[i]:\n",
    "                count+=1\n",
    "        rec = count/len(y_true[i])\n",
    "        recall_res += rec\n",
    "    return recall_res/len(y_true)"
   ]
  },
  {
   "cell_type": "code",
   "execution_count": 63,
   "id": "5c98f604",
   "metadata": {},
   "outputs": [],
   "source": [
    "def precision(y_true, y_pred):\n",
    "    precision_res = 0\n",
    "    for i,l in enumerate(y_pred):\n",
    "        if len(y_pred[i])==0:\n",
    "            continue\n",
    "        count = 0\n",
    "        for j,v in enumerate(l):\n",
    "            if v in y_true[i]:\n",
    "                count+=1\n",
    "        rec = count/len(y_pred[i])\n",
    "        precision_res += rec\n",
    "    return precision_res/len(y_true)"
   ]
  },
  {
   "cell_type": "code",
   "execution_count": 60,
   "id": "fbaffa13",
   "metadata": {},
   "outputs": [],
   "source": [
    "y_pred, y_true = build_result_and_test_y(res, mappings)"
   ]
  },
  {
   "cell_type": "code",
   "execution_count": 62,
   "id": "15811838",
   "metadata": {},
   "outputs": [
    {
     "data": {
      "text/plain": [
       "0.0"
      ]
     },
     "execution_count": 62,
     "metadata": {},
     "output_type": "execute_result"
    }
   ],
   "source": [
    "recall_result = recall(y_true, y_pred)\n",
    "recall_result"
   ]
  },
  {
   "cell_type": "code",
   "execution_count": 64,
   "id": "d5e23954",
   "metadata": {},
   "outputs": [
    {
     "data": {
      "text/plain": [
       "0.0"
      ]
     },
     "execution_count": 64,
     "metadata": {},
     "output_type": "execute_result"
    }
   ],
   "source": [
    "precision_result = precision(y_true, y_pred)\n",
    "precision_result"
   ]
  },
  {
   "cell_type": "code",
   "execution_count": 57,
   "id": "c7592c29",
   "metadata": {},
   "outputs": [],
   "source": []
  },
  {
   "cell_type": "code",
   "execution_count": null,
   "id": "8063412d",
   "metadata": {},
   "outputs": [],
   "source": []
  },
  {
   "cell_type": "code",
   "execution_count": null,
   "id": "06b250e9",
   "metadata": {},
   "outputs": [],
   "source": []
  },
  {
   "cell_type": "code",
   "execution_count": 53,
   "id": "f2034137",
   "metadata": {},
   "outputs": [],
   "source": []
  }
 ],
 "metadata": {
  "kernelspec": {
   "display_name": "Python 3 (ipykernel)",
   "language": "python",
   "name": "python3"
  },
  "language_info": {
   "codemirror_mode": {
    "name": "ipython",
    "version": 3
   },
   "file_extension": ".py",
   "mimetype": "text/x-python",
   "name": "python",
   "nbconvert_exporter": "python",
   "pygments_lexer": "ipython3",
   "version": "3.8.10"
  }
 },
 "nbformat": 4,
 "nbformat_minor": 5
}
