{
 "cells": [
  {
   "cell_type": "code",
   "execution_count": 9,
   "id": "ef77054a",
   "metadata": {},
   "outputs": [],
   "source": [
    "import params\n",
    "import pathlib\n",
    "import os\n",
    "import wandb\n",
    "from tqdm import tqdm\n",
    "import pandas as pd\n",
    "import numpy as np"
   ]
  },
  {
   "cell_type": "code",
   "execution_count": 2,
   "id": "9019138d",
   "metadata": {},
   "outputs": [
    {
     "name": "stderr",
     "output_type": "stream",
     "text": [
      "\u001b[34m\u001b[1mwandb\u001b[0m: Currently logged in as: \u001b[33mgianfranco-romani\u001b[0m. Use \u001b[1m`wandb login --relogin`\u001b[0m to force relogin\n"
     ]
    },
    {
     "data": {
      "text/html": [
       "wandb version 0.13.9 is available!  To upgrade, please run:\n",
       " $ pip install wandb --upgrade"
      ],
      "text/plain": [
       "<IPython.core.display.HTML object>"
      ]
     },
     "metadata": {},
     "output_type": "display_data"
    },
    {
     "data": {
      "text/html": [
       "Tracking run with wandb version 0.13.7"
      ],
      "text/plain": [
       "<IPython.core.display.HTML object>"
      ]
     },
     "metadata": {},
     "output_type": "display_data"
    },
    {
     "data": {
      "text/html": [
       "Run data is saved locally in <code>/home/gianfree/Desktop/CISI-project-MLOps/wandb/run-20230123_112241-3rsly68t</code>"
      ],
      "text/plain": [
       "<IPython.core.display.HTML object>"
      ]
     },
     "metadata": {},
     "output_type": "display_data"
    },
    {
     "data": {
      "text/html": [
       "Syncing run <strong><a href=\"https://wandb.ai/gianfranco-romani/cisi-project/runs/3rsly68t\" target=\"_blank\">gentle-firefly-11</a></strong> to <a href=\"https://wandb.ai/gianfranco-romani/cisi-project\" target=\"_blank\">Weights & Biases</a> (<a href=\"https://wandb.me/run\" target=\"_blank\">docs</a>)<br/>"
      ],
      "text/plain": [
       "<IPython.core.display.HTML object>"
      ]
     },
     "metadata": {},
     "output_type": "display_data"
    }
   ],
   "source": [
    "run = wandb.init(project=params.WANDB_PROJECT, entity=params.ENTITY, job_type=\"data_split\")"
   ]
  },
  {
   "cell_type": "code",
   "execution_count": 3,
   "id": "936dd50e",
   "metadata": {},
   "outputs": [
    {
     "name": "stderr",
     "output_type": "stream",
     "text": [
      "\u001b[34m\u001b[1mwandb\u001b[0m:   5 of 5 files downloaded.  \n"
     ]
    }
   ],
   "source": [
    "#raw_data_at = run.use_artifact(f'{params.RAW_DATA_AT}:latest')\n",
    "#path = Path(raw_data_at.download())\n",
    "\n",
    "raw_data_at = run.use_artifact('gianfranco-romani/cisi-project/cisi_project:latest', type='dataset')\n",
    "path = pathlib.Path(raw_data_at.download())"
   ]
  },
  {
   "cell_type": "code",
   "execution_count": 24,
   "id": "e412b229",
   "metadata": {},
   "outputs": [],
   "source": [
    "#orig_questions = raw_data_at.get(\"questions\")\n",
    "#orig_queries = raw_data_at.get(\"queries\")\n",
    "#orig_mappings = raw_data_at.get(\"mappings\")"
   ]
  },
  {
   "cell_type": "code",
   "execution_count": 11,
   "id": "a438a30d",
   "metadata": {},
   "outputs": [
    {
     "name": "stderr",
     "output_type": "stream",
     "text": [
      "\u001b[34m\u001b[1mwandb\u001b[0m:   5 of 5 files downloaded.  \n"
     ]
    }
   ],
   "source": [
    "t_mappings = raw_data_at.get(\"table_mappings\")"
   ]
  },
  {
   "cell_type": "code",
   "execution_count": 26,
   "id": "04b7ff19",
   "metadata": {},
   "outputs": [
    {
     "name": "stdout",
     "output_type": "stream",
     "text": [
      "3114 1868 623 623\n"
     ]
    }
   ],
   "source": [
    "df = pd.DataFrame(data=t_mappings.data, columns=t_mappings.columns)\n",
    "train, val, test = np.split(df.sample(frac=1, random_state=42), [int(.6*len(df)), int(.8*len(df))])\n",
    "print(len(t_mappings.data), len(train), len(val), len(test))"
   ]
  },
  {
   "cell_type": "code",
   "execution_count": 23,
   "id": "d7dfe729",
   "metadata": {},
   "outputs": [
    {
     "data": {
      "text/plain": [
       "<ManifestEntry digest: gRkUkNNGaAuMAQqzGRLwtg==>"
      ]
     },
     "execution_count": 23,
     "metadata": {},
     "output_type": "execute_result"
    }
   ],
   "source": [
    "split_artifact = wandb.Artifact('data-splits', type='dataset', description='Train, validation, test dataset splits')\n",
    "\n",
    "split_artifact.add(wandb.Table(dataframe=train), name='train-data')\n",
    "split_artifact.add(wandb.Table(dataframe=val), name='val-data')\n",
    "split_artifact.add(wandb.Table(dataframe=test), name='test-data')"
   ]
  },
  {
   "cell_type": "code",
   "execution_count": 25,
   "id": "225fa103",
   "metadata": {},
   "outputs": [
    {
     "data": {
      "text/html": [
       "Waiting for W&B process to finish... <strong style=\"color:green\">(success).</strong>"
      ],
      "text/plain": [
       "<IPython.core.display.HTML object>"
      ]
     },
     "metadata": {},
     "output_type": "display_data"
    },
    {
     "data": {
      "text/html": [
       "Synced <strong style=\"color:#cdcd00\">gentle-firefly-11</strong>: <a href=\"https://wandb.ai/gianfranco-romani/cisi-project/runs/3rsly68t\" target=\"_blank\">https://wandb.ai/gianfranco-romani/cisi-project/runs/3rsly68t</a><br/>Synced 5 W&B file(s), 0 media file(s), 3 artifact file(s) and 0 other file(s)"
      ],
      "text/plain": [
       "<IPython.core.display.HTML object>"
      ]
     },
     "metadata": {},
     "output_type": "display_data"
    },
    {
     "data": {
      "text/html": [
       "Find logs at: <code>./wandb/run-20230123_112241-3rsly68t/logs</code>"
      ],
      "text/plain": [
       "<IPython.core.display.HTML object>"
      ]
     },
     "metadata": {},
     "output_type": "display_data"
    }
   ],
   "source": [
    "run.log_artifact(split_artifact)\n",
    "run.finish()"
   ]
  }
 ],
 "metadata": {
  "kernelspec": {
   "display_name": "Python 3 (ipykernel)",
   "language": "python",
   "name": "python3"
  },
  "language_info": {
   "codemirror_mode": {
    "name": "ipython",
    "version": 3
   },
   "file_extension": ".py",
   "mimetype": "text/x-python",
   "name": "python",
   "nbconvert_exporter": "python",
   "pygments_lexer": "ipython3",
   "version": "3.8.10"
  }
 },
 "nbformat": 4,
 "nbformat_minor": 5
}
